{
 "cells": [
  {
   "cell_type": "markdown",
   "id": "3d295101-eff1-4774-89d5-28b076d75f5c",
   "metadata": {},
   "source": [
    "# Biospecies NER LLM pipeline"
   ]
  },
  {
   "cell_type": "markdown",
   "id": "7f2c5652-74d3-45c6-923c-e1eb056deba1",
   "metadata": {},
   "source": [
    "### This notebook is for using LLMNER package for recognizing and extrating the entities in the biodiversity scientific literatures."
   ]
  },
  {
   "cell_type": "code",
   "execution_count": 1,
   "id": "cd61f9a1-8a8e-4531-b63a-3e9c7adb65e5",
   "metadata": {},
   "outputs": [],
   "source": [
    "# Import necessary libraries\n",
    "import os\n",
    "import sys\n",
    "#import torch\n",
    "import csv\n",
    "import re\n",
    "import json\n",
    "import pandas as pd\n",
    "from datetime import datetime\n",
    "from llmner import FewShotNer\n",
    "from llmner.data import AnnotatedDocument, Annotation\n",
    "from llmner.utils import annotated_document_to_conll\n",
    "\n",
    "\n",
    "# Set your API keys and environment variables\n",
    "os.environ[\"OPENAI_API_BASE\"] = \"https://api.deepinfra.com/v1/openai\"\n",
    "os.environ[\"OPENAI_API_KEY\"] = \"74E9wdOXjnQsR24169Ts8mnSX7D8Ul5T\"\n",
    "#\"74E9wdOXjnQsR24169Ts8mnSX7D8Ul5T\"\n",
    "\n",
    "# Define paths to S800 dataset\n",
    "S800_DIR = \"./s800/categorized\"\n",
    "S800_ABSTRACTS_DIR = os.path.join(S800_DIR, \"zoo\")\n",
    "S800_ANNOTATIONS_PATH = os.path.join(S800_DIR, \"S800-zoo.tsv\")\n",
    "OUTPUT_PATH = \"./s800_results/\"\n",
    "\n",
    "# Create output directory if it doesn't exist\n",
    "os.makedirs(OUTPUT_PATH, exist_ok=True)"
   ]
  },
  {
   "cell_type": "code",
   "execution_count": 2,
   "id": "4bbbe77c",
   "metadata": {},
   "outputs": [],
   "source": [
    "# Define few-shot entities\n",
    "few_shot_entities = {\n",
    "    \"common_name\": \"The non-scientific name used to identify a species in everyday language. These names often describe physical characteristics, geographic origin, or behavior of the organism.\",\n",
    "    \n",
    "    \"scientific_name\": \"The formal taxonomic name for a species, including binomial nomenclature, abbreviated forms, genus names alone, species names in taxonomic context, and Latin taxonomic descriptors. Scientific names are the standardized nomenclature used in biology to refer to specific species.\"\n",
    "}\n",
    "\n",
    "few_shot_examples = [\n",
    "    AnnotatedDocument(\n",
    "        text=\"The complete sequence of the 16S rRNA gene of Mycoplasma felis, isolated from cats, was determined.\",\n",
    "        annotations=[\n",
    "            Annotation(start=53, end=68, label=\"scientific_name\", text=\"Mycoplasma felis\"),\n",
    "            Annotation(start=80, end=84, label=\"common_name\", text=\"cats\"),\n",
    "        ],\n",
    "    ),\n",
    "    AnnotatedDocument(\n",
    "        text=\"Mouse interleukin-2 (IL-2) stimulated the proliferation of mouse and rat cells but human IL-2 stimulated rat cells more effectively than mouse cells.\",\n",
    "        annotations=[\n",
    "            Annotation(start=0, end=5, label=\"common_name\", text=\"Mouse\"),\n",
    "            Annotation(start=59, end=64, label=\"common_name\", text=\"mouse\"),\n",
    "            Annotation(start=69, end=72, label=\"common_name\", text=\"rat\"),\n",
    "            Annotation(start=99, end=102, label=\"common_name\", text=\"rat\"),\n",
    "            Annotation(start=129, end=134, label=\"common_name\", text=\"mouse\"),\n",
    "        ],\n",
    "    ),\n",
    "    AnnotatedDocument(\n",
    "        text=\"Arabidopsis thaliana and Oryza sativa were compared to study evolutionary differences between dicots and monocots.\",\n",
    "        annotations=[\n",
    "            Annotation(start=0, end=19, label=\"scientific_name\", text=\"Arabidopsis thaliana\"),\n",
    "            Annotation(start=24, end=36, label=\"scientific_name\", text=\"Oryza sativa\"),\n",
    "        ],\n",
    "    ),\n",
    "    AnnotatedDocument(\n",
    "        text=\"E. coli strains were resistant to ampicillin, while S. aureus showed susceptibility to methicillin.\",\n",
    "        annotations=[\n",
    "            Annotation(start=0, end=7, label=\"scientific_name\", text=\"E. coli\"),\n",
    "            Annotation(start=45, end=54, label=\"scientific_name\", text=\"S. aureus\"),\n",
    "        ],\n",
    "    ),\n",
    "    AnnotatedDocument(\n",
    "    text=\"The red fox, or Vulpes vulpes, is widespread across the Northern Hemisphere.\",\n",
    "    annotations=[\n",
    "        Annotation(start=4, end=12, label=\"common_name\", text=\"red fox\"),\n",
    "        Annotation(start=17, end=31, label=\"scientific_name\", text=\"Vulpes vulpes\"),\n",
    "        ],\n",
    "    )\n",
    "]"
   ]
  },
  {
   "cell_type": "code",
   "execution_count": 3,
   "id": "bbf4bd02-5726-4dd6-acf7-7c8b25027598",
   "metadata": {},
   "outputs": [],
   "source": [
    "import re\n",
    "\n",
    "def chunk_text(text, max_tokens=512, chunk_overlap=0):\n",
    "    \"\"\"\n",
    "    Langchain-style recursive text splitter without dependencies.\n",
    "    Tries to split first on \\n\\n, then \\n, then ., then space, then hard cut.\n",
    "    \"\"\"\n",
    "    def split_recursive(text, max_tokens):\n",
    "        separators = [\"\\n\\n\", \"\\n\", r\"(?<=[.?!])\\s\", \" \"]\n",
    "        for sep in separators:\n",
    "            parts = re.split(sep, text) if not sep.startswith(\"(?\") else re.split(sep, text)\n",
    "            chunks, current = [], []\n",
    "            total_words = 0\n",
    "\n",
    "            for part in parts:\n",
    "                word_count = len(part.split())\n",
    "                if total_words + word_count <= max_tokens:\n",
    "                    current.append(part)\n",
    "                    total_words += word_count\n",
    "                else:\n",
    "                    if current:\n",
    "                        chunks.append(\" \".join(current).strip())\n",
    "                    current = [part]\n",
    "                    total_words = word_count\n",
    "\n",
    "            if current:\n",
    "                chunks.append(\" \".join(current).strip())\n",
    "\n",
    "            # If all chunks are within max_tokens, done\n",
    "            if all(len(chunk.split()) <= max_tokens for chunk in chunks):\n",
    "                return chunks\n",
    "\n",
    "        # fallback: force cut\n",
    "        words = text.split()\n",
    "        return [\n",
    "            \" \".join(words[i:i+max_tokens])\n",
    "            for i in range(0, len(words), max_tokens)\n",
    "        ]\n",
    "\n",
    "    base_chunks = split_recursive(text, max_tokens)\n",
    "\n",
    "    # Apply overlap if needed\n",
    "    if chunk_overlap > 0:\n",
    "        overlapped_chunks = []\n",
    "        for i in range(0, len(base_chunks)):\n",
    "            current_chunk = base_chunks[i]\n",
    "            if i > 0:\n",
    "                previous_chunk = base_chunks[i - 1]\n",
    "                overlap_words = \" \".join(previous_chunk.split()[-chunk_overlap:])\n",
    "                current_chunk = f\"{overlap_words} {current_chunk}\"\n",
    "            overlapped_chunks.append(current_chunk.strip())\n",
    "        return overlapped_chunks\n",
    "\n",
    "    return base_chunks\n"
   ]
  },
  {
   "cell_type": "code",
   "execution_count": 22,
   "id": "81576620-ffed-4bc5-9f4d-ea07f6d70eef",
   "metadata": {},
   "outputs": [],
   "source": [
    "# Initialize the model\n",
    "model = \"meta-llama/Llama-4-Scout-17B-16E-Instruct\"\n",
    "temperature = 0.1\n",
    "prompting_method = \"multi_turn\"\n",
    "\n",
    "# Create the NER model\n",
    "few_model = FewShotNer(\n",
    "    model=model,\n",
    "    temperature=temperature, \n",
    "    prompting_method=prompting_method,\n",
    "    final_message_with_all_entities=True\n",
    ")\n",
    "\n",
    "# Contextualize with examples\n",
    "few_model.contextualize(entities=few_shot_entities, examples=few_shot_examples)"
   ]
  },
  {
   "cell_type": "code",
   "execution_count": 23,
   "id": "2213dfd4-d42e-4cb1-93bc-a6a20ddce54d",
   "metadata": {
    "scrolled": true
   },
   "outputs": [],
   "source": [
    "def process_s800_abstracts():\n",
    "    \"\"\"Process abstracts from S800 corpus with the given chunk size.\"\"\"\n",
    "    results = []\n",
    "    conll_results = []\n",
    "    abstract_files = [f for f in os.listdir(S800_ABSTRACTS_DIR) if f.endswith('.txt')]\n",
    "    print(f\"Found {len(abstract_files)} abstract files to process\")\n",
    "\n",
    "    allowed_docs = [\n",
    "    \"species016\",\n",
    "    \"species036\",\n",
    "    \"species042\",\n",
    "    \"species043\",\n",
    "    \"species044\",\n",
    "    \"species066\",\n",
    "    \"species103\",\n",
    "    \"species160\",\n",
    "    \"species161\",\n",
    "    \"species162\",\n",
    "    \"species278\",\n",
    "    \"species369\",\n",
    "    \"species494\",\n",
    "    \"species542\",\n",
    "    \"species563\",\n",
    "    \"species630\",\n",
    "    \"species629\",\n",
    "    \"species084\"\n",
    "    ]\n",
    "    file_num = 0\n",
    "    for filename in abstract_files:\n",
    "        doc_id = filename[:-4]  \n",
    "        if doc_id in allowed_docs:\n",
    "            # Read the abstract content\n",
    "            with open(os.path.join(S800_ABSTRACTS_DIR, filename), 'r', encoding='utf-8') as f:\n",
    "                content = f.read()\n",
    "            print(f\"Processing {filename}...\")\n",
    "            file_num += 1\n",
    "            \n",
    "            # Chunk the abstract using chunk_text function\n",
    "            chunks = chunk_text(content, max_tokens=1024, chunk_overlap=0)\n",
    "            for chunk in enumerate(chunks):\n",
    "                print('####', chunk)\n",
    "                \n",
    "            \n",
    "            file_results = []\n",
    "            for i, chunk in enumerate(chunks):\n",
    "                \n",
    "                print(f\"  Processing chunk {i+1}/{len(chunks)}\")\n",
    "                \n",
    "                # Get model predictions\n",
    "                model_output = few_model.predict([chunk])\n",
    "                annotations_only = model_output[0].annotations\n",
    "                annotations = model_output[0]\n",
    "    \n",
    "                # Convert to CoNLL format using the package function\n",
    "                conll_format = annotated_document_to_conll(annotations)\n",
    "                \n",
    "                # Store results for the whole file\n",
    "                results.append({\n",
    "                    'file': filename,\n",
    "                    'doc_id': doc_id,\n",
    "                    'content': content,\n",
    "                    'annotations': annotations.annotations,\n",
    "                })\n",
    "                # Store CoNLL format separately\n",
    "                conll_results.append({\n",
    "                    'doc_id': doc_id,\n",
    "                    'conll': conll_format\n",
    "                })\n",
    "                \n",
    "                print(f\"Completed file {file_num}/{len(abstract_files)}\")\n",
    "        \n",
    "    return results, conll_results"
   ]
  },
  {
   "cell_type": "code",
   "execution_count": 24,
   "id": "2d55b4f6",
   "metadata": {
    "scrolled": true
   },
   "outputs": [
    {
     "name": "stdout",
     "output_type": "stream",
     "text": [
      "Found 100 abstract files to process\n",
      "Processing species162.txt...\n",
      "#### (0, 'Constraints on host choice: why do parasitic birds rarely exploit some common potential hosts?  1. Why are some common and apparently suitable resources avoided by potential users? This interesting ecological and evolutionary conundrum is vividly illustrated by obligate brood parasites. Parasitic birds lay their eggs into nests of a wide range of host species, including many rare ones, but do not parasitize some commonly co-occurring potential hosts. 2. Attempts to explain the absence of parasitism in common potential hosts are limited and typically focused on single-factor explanations while ignoring other potential factors. We tested why thrushes Turdus spp. are extremely rarely parasitized by common cuckoos Cuculus canorus despite breeding commonly in sympatry and building the most conspicuous nests among forest-breeding passerines. 3. No single examined factor explained cuckoo avoidance of thrushes. Life-history traits of all six European thrush species and the 10 most frequently used cuckoo hosts in Europe were similar except body/egg size, nest design and nestling diet. 4. Experiments (n = 1211) in several populations across Europe showed that host defences at egg-laying and incubation stages did not account for the lack of cuckoo parasitism in thrushes. However, cross-fostering experiments disclosed that various factors during the nestling period prevent cuckoos from successfully parasitizing thrushes. Specifically, in some thrush species, the nest cup design forced cuckoo chicks to compete with host chicks with fatal consequences for the parasite. Other species were reluctant to care even for lone cuckoo chicks. 5. Importantly, in an apparently phylogenetically homogenous group of hosts, there were interspecific differences in factors responsible for the absence of cuckoo parasitism. 6. This study highlights the importance of considering multiple potential factors and their interactions for understanding absence of parasitism in potential hosts of parasitic birds. In the present study, comparative and experimental procedures are integrated, which represent a novel approach that should prove useful for the understanding of interspecific ecological relationships in general.')\n",
      "  Processing chunk 1/1\n"
     ]
    },
    {
     "name": "stderr",
     "output_type": "stream",
     "text": [
      "100%|███████████████████████████████████████| 1/1 [00:29<00:00, 29.36s/ example]\n"
     ]
    },
    {
     "name": "stdout",
     "output_type": "stream",
     "text": [
      "Completed file 1/100\n",
      "Processing species084.txt...\n",
      "#### (0, \"Heating up relations between cold fish: competition modifies responses to climate change.  Most predictions about species responses to climate change ignore species interactions. Helland and colleagues (2011) test whether this assumption is valid by evaluating whether ice cover affects competition between brown trout [Salmo trutta (L.)] and Arctic charr [Salvelinus alpines (L.)]. They show that increasing ice cover correlates with lower trout biomass when Arctic charr co-occur, but not in charr's absence. In experiments, charr grew better in the cold, dark environments that typify ice-covered lakes. Decreasing ice cover with warmer winters could mean more trout and fewer charr. More generally, their results provide an excellent example, suggesting that species interactions can strongly modify responses to climate change.\")\n",
      "  Processing chunk 1/1\n"
     ]
    },
    {
     "name": "stderr",
     "output_type": "stream",
     "text": [
      "100%|███████████████████████████████████████| 1/1 [00:18<00:00, 18.75s/ example]\n"
     ]
    },
    {
     "name": "stdout",
     "output_type": "stream",
     "text": [
      "Completed file 2/100\n",
      "Processing species369.txt...\n",
      "#### (0, \"Predation and patchiness in the tropical litter: do swarm-raiding army ants skim the cream or drain the bottle?  1. Swarm-raiding army ants have long been considered as episodic, catastrophic agents of disturbance in the tropical litter, but few quantitative data exist on their diets, preferences, and, critically, their ability to deplete prey. 2. Here, we provide such data for two common species of swarm raiders broadly sympatric throughout the Neotropics: the iconic Eciton burchellii and the more secretive, less studied Labidus praedator. In Ecuador, Costa Rica, Venezuela and Panama, patches of forest floor were sampled for litter invertebrates immediately before and after army ant raids. These invertebrates have been shown to regulate decomposition and vary 100-fold in local densities across the forest floor. 3. Contrary to Eciton's popular image, only Labidus consistently reduced the biomass of litter invertebrates and only then by an average of 25%. Eciton's impacts were concentrated on rich patches of invertebrates, while Labidus prey depletion showed no such density dependence. Labidus reduced the biomass of some invertebrates-isopods, larviforms and coleoptera-by up to 75%; Eciton showed no such prey preferences. 4. Our results suggest that Eciton specializes on high biomass patches, while Labidus feeds profitably from any litter patch. Combined, these swarm raiders sum to be chronic, but not catastrophic, predators of common litter invertebrates of the brown food web.\")\n",
      "  Processing chunk 1/1\n"
     ]
    },
    {
     "name": "stderr",
     "output_type": "stream",
     "text": [
      "The text cannot be perfectly aligned: Annotation(start=473, end=486, label='common_name', text='E. burchellii') was removed because the string is not in the text.\n",
      "The text cannot be perfectly aligned: Annotation(start=528, end=540, label='common_name', text='L. praedator') was removed because the string is not in the text.\n",
      "100%|███████████████████████████████████████| 1/1 [00:28<00:00, 28.96s/ example]\n"
     ]
    },
    {
     "name": "stdout",
     "output_type": "stream",
     "text": [
      "Completed file 3/100\n",
      "Processing species016.txt...\n",
      "#### (0, 'Host characteristics and environmental factors differentially drive the burden and pathogenicity of an ectoparasite: a multilevel causal analysis.  1. Understanding the ecological factors driving the burden and pathogenicity of parasites is challenging. Indeed, the dynamics of host-parasite interactions is driven by factors organized across nested hierarchical levels (e.g. hosts, localities), and indirect effects are expected owing to interactions between levels. 2. In this study, we combined Bayesian multilevel models, path analyses and a model selection procedure to account for these complexities and to decipher the relative effects of host- and environment-related factors on the burden and the pathogenicity of an ectoparasite (Tracheliastes polycolpus) on its fish host (Leuciscus leuciscus). We also tested the year-to-year consistency of the relationships linking these factors to the burden and the pathogenic effects of T. polycolpus. 3. We found significant relationships between the parasite burden and host-related factors: body length and age were positively related to parasite burden and heterozygous hosts displayed a higher parasite burden. In contrast, both host- and environment-related factors were linked to pathogenic effects. Pathogenicity was correlated negatively with host body length and positively with age; this illustrates that some factors (e.g. body length) showed inverse relationships with parasite burden and pathogenicity. Pathogenic effects were stronger in cooler upstream sites and where host density was lower. Path analyses revealed that these relationships between environment-related factors and pathogenic effects were direct and were not indirect relationships mediated by the host characteristics. Finally, we found that the strength and the shape of certain relationships were consistent across years, while they were clearly not for some others. 4. Our study illustrates that considering conjointly causal relationships among factors and the hierarchical structure of host-parasite interactions is appropriate for dissecting the complex links between hosts, parasites and their common environment.')\n",
      "  Processing chunk 1/1\n"
     ]
    },
    {
     "name": "stderr",
     "output_type": "stream",
     "text": [
      "100%|███████████████████████████████████████| 1/1 [00:20<00:00, 20.55s/ example]\n"
     ]
    },
    {
     "name": "stdout",
     "output_type": "stream",
     "text": [
      "Completed file 4/100\n",
      "Processing species066.txt...\n",
      "#### (0, 'Soil nutrient status determines how elephant utilize trees and shape environments.  1. Elucidation of the mechanism determining the spatial scale of patch selection by herbivores has been complicated by the way in which resource availability at a specific scale is measured and by vigilance behaviour of the herbivores themselves. To reduce these complications, we studied patch selection by an animal with negligible predation risk, the African elephant. 2. We introduce the concept of nutrient load as the product of patch size, number of patches and local patch nutrient concentration. Nutrient load provides a novel spatially explicit expression of the total available nutrients a herbivore can select from. 3. We hypothesized that elephant would select nutrient-rich patches, based on the nutrient load per 2500 m(2) down to the individual plant scale, and that this selection will depend on the nitrogen and phosphorous contents of plants. 4. We predicted that elephant would cause more adverse impact to trees of lower value to them in order to reach plant parts with higher nutrient concentrations such as bark and root. However, elephant should maintain nutrient-rich trees by inducing coppicing of trees through re-utilization of leaves. 5. Elephant patch selection was measured in a homogenous tree species stand by manipulating the spatial distribution of soil nutrients in a large field experiment using NPK fertilizer. 6. Elephant were able to select nutrient-rich patches and utilized Colophospermum mopane trees inside these patches more than outside, at scales ranging from 2500 down to 100 m(2) . 7. Although both nitrogen and phosphorus contents of leaves from C. mopane trees were higher in fertilized and selected patches, patch choice correlated most strongly with nitrogen content. As predicted, stripping of leaves occurred more in nutrient-rich patches, while adverse impact such as uprooting of trees occurred more in nutrient-poor areas. 8. Our results emphasize the necessity of including scale-dependent selectivity in foraging studies and how elephant foraging behaviour can be used as indicators of change in the availability of nutrients.')\n",
      "  Processing chunk 1/1\n"
     ]
    },
    {
     "name": "stderr",
     "output_type": "stream",
     "text": [
      "100%|███████████████████████████████████████| 1/1 [00:25<00:00, 25.00s/ example]\n"
     ]
    },
    {
     "name": "stdout",
     "output_type": "stream",
     "text": [
      "Completed file 5/100\n",
      "Processing species542.txt...\n",
      "#### (0, 'Determinants of reproductive success in dominant pairs of clownfish: a boosted regression tree analysis.  1. Central questions of behavioural and evolutionary ecology are what factors influence the reproductive success of dominant breeders and subordinate nonbreeders within animal societies? A complete understanding of any society requires that these questions be answered for all individuals. 2. The clown anemonefish, Amphiprion percula, forms simple societies that live in close association with sea anemones, Heteractis magnifica. Here, we use data from a well-studied population of A. percula to determine the major predictors of reproductive success of dominant pairs in this species. 3. We analyse the effect of multiple predictors on four components of reproductive success, using a relatively new technique from the field of statistical learning: boosted regression trees (BRTs). BRTs have the potential to model complex relationships in ways that give powerful insight. 4. We show that the reproductive success of dominant pairs is unrelated to the presence, number or phenotype of nonbreeders. This is consistent with the observation that nonbreeders do not help or hinder breeders in any way, confirming and extending the results of a previous study. 5. Primarily, reproductive success is negatively related to male growth and positively related to breeding experience. It is likely that these effects are interrelated because males that grow a lot have little breeding experience. These effects are indicative of a trade-off between male growth and parental investment. 6. Secondarily, reproductive success is positively related to female growth and size. In this population, female size is positively related to group size and anemone size, also. These positive correlations among traits likely are caused by variation in site quality and are suggestive of a silver-spoon effect. 7. Noteworthily, whereas reproductive success is positively related to female size, it is unrelated to male size. This observation provides support for the size advantage hypothesis for sex change: both individuals maximize their reproductive success when the larger individual adopts the female tactic. 8. This study provides the most complete picture to date of the factors that predict the reproductive success of dominant pairs of clown anemonefish and illustrates the utility of BRTs for analysis of complex behavioural and evolutionary ecology data.')\n",
      "  Processing chunk 1/1\n"
     ]
    },
    {
     "name": "stderr",
     "output_type": "stream",
     "text": [
      "100%|███████████████████████████████████████| 1/1 [00:26<00:00, 26.41s/ example]\n"
     ]
    },
    {
     "name": "stdout",
     "output_type": "stream",
     "text": [
      "Completed file 6/100\n",
      "Processing species630.txt...\n",
      "#### (0, 'Thermally contingent plasticity: temperature alters expression of predator-induced colour and morphology in a Neotropical treefrog tadpole.  1. Behavioural, morphological and coloration plasticity are common responses of prey to predation risk. Theory predicts that prey should respond to the relative magnitude of risk, rather than a single level of response to any risk level. In addition to conspecific and predator densities, prey growth and differentiation rates affect the duration of vulnerability to size- and stage-limited predators and therefore the relative value of defences. 2. We reared tadpoles of the Neotropical treefrog Dendropsophus ebraccatus with or without cues from a predator (Belostoma sp.) in ecologically relevant warm or cool temperatures. To track phenotypic changes, we measured morphology, tail coloration and developmental stage at three points during the larval period. 3. Cues from predators interacted with growth conditions causing tadpoles to alter their phenotype, changing only tail colour in response to predators in warm water, but both morphology and colour in cool growth conditions. Tadpoles with predators in warm water altered coloration early but converged on the morphology of predator-free controls. Water temperature alone had no effect on tadpole phenotype. 4. We demonstrate that seemingly small variation in abiotic environmental conditions can alter the expression of phenotypic plasticity, consistent with predictions about how growth rate affects risk. Predator-induced tadpole phenotypes depended on temperature, with strong expression only in temperatures that slow development. Thermal modulation of plastic responses to predators may be broadly relevant to poikilotherm development. It is important to include a range of realistic growth conditions in experiments to more fully understand the ecological and evolutionary significance of plasticity.')\n",
      "  Processing chunk 1/1\n"
     ]
    },
    {
     "name": "stderr",
     "output_type": "stream",
     "text": [
      "100%|███████████████████████████████████████| 1/1 [00:19<00:00, 19.99s/ example]\n"
     ]
    },
    {
     "name": "stdout",
     "output_type": "stream",
     "text": [
      "Completed file 7/100\n",
      "Processing species563.txt...\n",
      "#### (0, 'The importance of marine vs. human-induced subsidies in the maintenance of an expanding mesocarnivore in the arctic tundra.  1. Most studies addressing the causes of the recent increases and expansions of mesopredators in many ecosystems have focused on the top-down, releasing effect of extinctions of large apex predators. However, in the case of the northward expansion of the red fox into the arctic tundra, a bottom-up effect of increased resource availability has been proposed, an effect that can counteract prey shortage in the low phase of the multi-annual rodent cycle. Resource subsidies both with marine and with terrestrial origins could potentially be involved. 2. During different phases of a multi-annual rodent cycle, we investigated the seasonal dynamics and spatial pattern of resource use by red foxes across a coast to inland low arctic tundra gradient, Varanger Peninsula, Norway. We employed two complementary methods of diet analyses: stomach contents and stable isotope analysis. 3. We found that inland red foxes primarily subsisted on reindeer carrions during the low phase of a small rodent population cycle. Lemmings became the most important food item towards the peak phase of the rodent cycle, despite being less abundant than sympatric voles. Isotopic signatures of tissue from both predator and prey also revealed that red foxes near the coast used marine-derived subsidies in the winter, but these allochthonous resources did not spillover to adult foxes living beyond 20-25 km from the coast. 4. Although more needs to be learned about the link between increasing primary productivity due to climatic warming and trophic dynamics in tundra ecosystems, we suggest that changes in reindeer management through a bottom-up effect, at least regionally, may have paved the way towards the establishment of a new mesopredator in the tundra biome.')\n",
      "  Processing chunk 1/1\n"
     ]
    },
    {
     "name": "stderr",
     "output_type": "stream",
     "text": [
      "The text cannot be perfectly aligned: Annotation(start=661, end=674, label='scientific_name', text='Vulpes vulpes') was removed because the string is not in the text.\n",
      "100%|███████████████████████████████████████| 1/1 [00:45<00:00, 45.14s/ example]\n"
     ]
    },
    {
     "name": "stdout",
     "output_type": "stream",
     "text": [
      "Completed file 8/100\n",
      "Processing species629.txt...\n",
      "#### (0, 'Is hunting mortality additive or compensatory to natural mortality? Effects of experimental harvest on the survival and cause-specific mortality of willow ptarmigan.  1. The effects of harvest on the annual and seasonal survival of willow ptarmigan Lagopus lagopus L. were tested in a large-scale harvest experiment. Management units were randomly assigned to one of three experimental treatments: 0%, 15% or 30% harvest. Seasonal quotas were based on the experimental treatment and estimates of bird density before the hunting season. Survival rates and hazard functions for radio-marked ptarmigan were then estimated under the competing risks of harvest and natural mortality. 2. The partially compensatory mortality hypothesis was supported: annual survival of ptarmigan was 0*54 +/- 0*08 SE under 0% harvest, 0*47 +/- 0*06 under 15% harvest, and was reduced to 0*30 +/- 0*05 under 30% harvest. Harvest mortality increased linearly from 0*08 +/- 0*05, 0*27 +/- 0*05 and 0*42 +/- 0*06 from 0% to 30% harvest, whereas natural mortality was 0*38 +/- 0*08, 0*25 +/- 0*05 and 0*28 +/- 0*06 under the same treatments. 3. Realized risk of harvest mortality was 0*08-0*12 points higher than our set harvest treatments of 0-30% because birds were exposed to risk if they moved out of protected areas. The superadditive hypothesis was supported because birds in the 30% harvest treatment had higher natural mortality during winter after the hunting season. 4. Natural mortality was mainly because of raptor predation, with two seasonal peaks in fall and spring. Natural and harvest mortality coincided during early autumn with little potential for compensation during winter months. Peak risk of harvest mortality was 5x higher than natural mortality. Low natural mortality during winter suggests that most late season harvest would be additive mortality. 5. Environmental correlates of natural mortality of ptarmigan included seasonal changes in snow cover, onset of juvenile dispersal, and periods of territorial activity. Natural mortality of ptarmigan was highest during autumn movements and nesting by gyrfalcons Falco rusticolus L. Mortality was low when gyrfalcons had departed for coastal wintering sites, and during summer when ptarmigan were attending nests and broods. 6. Our experimental results have important implications for harvest management of upland gamebirds. Seasonal quotas based on proportional harvest were effective and should be set at =< 15% of August populations for regional management plans. Under threshold harvest of a reproductive surplus, 15% harvest would be sustainable at productivity rates >= 2*5 young per pair. Impacts of winter harvest could be minimized by closing the hunting season in early November or by reducing late season quotas.')\n",
      "  Processing chunk 1/1\n"
     ]
    },
    {
     "name": "stderr",
     "output_type": "stream",
     "text": [
      "100%|███████████████████████████████████████| 1/1 [00:25<00:00, 25.88s/ example]\n"
     ]
    },
    {
     "name": "stdout",
     "output_type": "stream",
     "text": [
      "Completed file 9/100\n",
      "Processing species494.txt...\n",
      "#### (0, \"Parasitoid developmental mortality in the field: patterns, causes and consequences for sex ratio and virginity.  1. Sex ratio theory predicts that developmental mortality can affect sex ratio optima under Local Mate Competition and also lead to 'virgin' broods containing only females with no sibling-mating opportunities on maturity. 2. Estimates of developmental mortality and its sex ratio effects have been laboratory based, and both models and laboratory studies have treated mortality as a phenomenon without identifying its biological causes. 3. We contribute a large set of field data on Metaphycus luteolus Timberlake (Hymenoptera: Encyrtidae), an endoparasitoid of soft scale insects (Hemiptera: Coccidae), which has sex allocation conditional on host quality and female-biased brood sex ratios. Developmental mortality within broods can be both assessed and attributed to distinct causes, including encapsulation by the host and larval-larval competition. 4. Thirty per cent of M. luteolus offspring die during development with 65% of this mortality because of encapsulation and 28% because of larval competition. The distributions of mortality overall and for each cause of mortality separately were overdispersed. 5. The probability of an individual being encapsulated increased with clutch size, while the probability of being killed by a brood mate declined with increasing clutch size and with increasing per capita availability of resources. 6. The sexual compositions of broods at emergence were influenced by both the degree and the type of mortality operating. At higher levels of mortality, single sex broods were more common and sex ratios were less precise. Overall, virginity was more prevalent than predicted and was more greatly affected by the occurrence of competition than by other sources of mortality, almost certainly because competition tended to eliminate males. 7. The reproductive and developmental biology of M. luteolus appears to be influenced by a complex interplay of maternal clutch size and sex allocation strategies, offspring-offspring developmental interactions, host defence mechanisms and postemergence mating behaviour. Despite the great sophistication of sex ratio theory, it has not yet evolved to the point where it is capable of considering all of these influences simultaneously.\")\n",
      "  Processing chunk 1/1\n"
     ]
    },
    {
     "name": "stderr",
     "output_type": "stream",
     "text": [
      "The text cannot be perfectly aligned: Annotation(start=742, end=753, label='common_name', text='common name') was removed because the string is not in the text.\n",
      "100%|███████████████████████████████████████| 1/1 [00:21<00:00, 21.61s/ example]\n"
     ]
    },
    {
     "name": "stdout",
     "output_type": "stream",
     "text": [
      "Completed file 10/100\n",
      "Processing species278.txt...\n",
      "#### (0, 'Can we predict indirect interactions from quantitative food webs?--an experimental approach.  1. Shared enemies may link the dynamics of their prey. Recently, quantitative food webs have been used to infer that herbivorous insect species attacked by the same major parasitoid species will affect each other negatively through apparent competition. Nonetheless, theoretical work predicts several alternative outcomes, including positive effects. 2. In this paper, we use an experimental approach to link food web patterns to realized population dynamics. First, we construct a quantitative food web for three dominant leaf miner species on the oak Quercus robur. We then measure short- and long-term indirect effects by increasing leaf miner densities on individual trees. Finally, we test whether experimental results are consistent with natural leaf miner dynamics on unmanipulated trees. 3. The quantitative food web shows that all leaf miner species share a minimum of four parasitoid species. While only a small fraction of the parasitoid pool is shared among Tischeria ekebladella and each of two Phyllonorycter species, the parasitoid communities of the congeneric Phyllonorycter species overlap substantially. 4. Based on the structure of the food web, we predict strong short- and long-term indirect interactions between the Phyllonorycter species, and limited interactions between them and T. ekebladella. As T. ekebladella is the main source of its own parasitoids, we expect to find intraspecific density-dependent parasitism in this species. 5. Consistent with these predictions, parasitism in T. ekebladella was high on trees with high densities of conspecifics in the previous generation. Among leaf miner species sharing more parasitoids, we found positive rather than negative interactions among years. No short-term indirect interactions (i.e. indirect interactions within a single generation) were detected. 6. Overall, this study is the first to experimentally demonstrate that herbivores with overlapping parasitoid communities may exhibit independent population dynamics - or even apparent mutualism. Hence, it proves the potential for versatile indirect interactions in nature, and suggests that the link between patterns in food web structure and realized population dynamics should be verified by rigorous experiments.')\n",
      "  Processing chunk 1/1\n"
     ]
    },
    {
     "name": "stderr",
     "output_type": "stream",
     "text": [
      "100%|███████████████████████████████████████| 1/1 [00:23<00:00, 23.73s/ example]\n"
     ]
    },
    {
     "name": "stdout",
     "output_type": "stream",
     "text": [
      "Completed file 11/100\n",
      "Processing species043.txt...\n",
      "#### (0, 'Fitness effects of endemic malaria infections in a wild bird population: the importance of ecological structure.  1. Parasites can have important effects on host populations influencing either fecundity or mortality, but understanding the magnitude of these effects in endemic host-parasite systems is challenging and requires an understanding of ecological processes affecting both host and parasite. 2. Avian blood parasites (Haemoproteus and Plasmodium) have been much studied, but the effects of these parasites on hosts in areas where they are endemic remains poorly known. 3. We used a multistate modelling framework to explore the effects of chronic infection with Plasmodium on survival and recapture probability in a large data set of breeding blue tits, involving 3424 individuals and 3118 infection diagnoses over nine years. 4. We reveal strong associations between chronic malaria infection and both recapture and survival, effects that are dependent on the clade of parasite, on host traits and on the local risk of infection. 5. Infection with Plasmodium relictum was associated with reduced recapture probability and increased survival, compared to P. circumflexum, suggesting that these parasites have differing virulence and cause different types of selection on this host. 6. Our results suggest a large potential survival cost of acute infections revealed by modelling host survival as a function of the local risk of infection. 7. Our analyses suggest not only that endemic avian malaria may have multiple fitness effects on their hosts and that these effects are species dependent, but also that adding ecological structure (in this case parasite species and spatial variation in disease occurrence) to analyses of host-parasite interactions is an important step in understanding the ecology and evolution of these systems.')\n",
      "  Processing chunk 1/1\n"
     ]
    },
    {
     "name": "stderr",
     "output_type": "stream",
     "text": [
      "The text cannot be perfectly aligned: Annotation(start=475, end=496, label='common_name', text='avian blood parasites') was removed because the string is not in the text.\n",
      "100%|███████████████████████████████████████| 1/1 [00:25<00:00, 25.83s/ example]\n"
     ]
    },
    {
     "name": "stdout",
     "output_type": "stream",
     "text": [
      "Completed file 12/100\n",
      "Processing species042.txt...\n",
      "#### (0, \"Introduced brown trout alter native acanthocephalan infections in native fish. 1. Native parasite acquisition provides introduced species with the potential to modify native host-parasite dynamics by acting as parasite reservoirs (with the 'spillback' of infection increasing the parasite burdens of native hosts) or sinks (with the 'dilution' of infection decreasing the parasite burdens of native hosts) of infection. 2. In New Zealand, negative correlations between the presence of introduced brown trout (Salmo trutta) and native parasite burdens of the native roundhead galaxias (Galaxias anomalus) have been observed, suggesting that parasite dilution is occurring. 3. We used a multiple-scale approach combining field observations, experimental infections and dynamic population modelling to investigate whether native Acanthocephalus galaxii acquisition by brown trout alters host-parasite dynamics in native roundhead galaxias. 4. Field observations demonstrated higher infection intensity in introduced trout than in native galaxias, but only small, immature A. galaxii were present in trout. Experimental infections also demonstrated that A. galaxii does not mature in trout, although parasite establishment and initial growth were similar in the two hosts. Taken together, these results support the hypothesis that trout may serve as an infection sink for the native parasite. 5. However, dynamic population modelling predicts that A. galaxii infections in native galaxias should at most only be slightly reduced by dilution in the presence of trout. Rather, model exploration indicates parasite densities in galaxias are highly sensitive to galaxias predation on infected amphipods, and to relative abundances of galaxias and trout. Hence, trout presence may instead reduce parasite burdens in galaxias by either reducing galaxias density or by altering galaxias foraging behaviour.\")\n",
      "  Processing chunk 1/1\n"
     ]
    },
    {
     "name": "stderr",
     "output_type": "stream",
     "text": [
      "100%|███████████████████████████████████████| 1/1 [00:33<00:00, 33.24s/ example]\n"
     ]
    },
    {
     "name": "stdout",
     "output_type": "stream",
     "text": [
      "Completed file 13/100\n",
      "Processing species036.txt...\n",
      "#### (0, 'Experimental evidence for emergent facilitation: promoting the existence of an invertebrate predator by killing its prey.  1. Recent theoretical insights have shown that predator species may help each other to persist by size-selective foraging on a shared prey. By feeding on a certain prey stage, a predator may induce a compensatory response in another stage of the same prey species, thereby favouring other predators; a phenomenon referred to as emergent facilitation. 2. To test whether emergent facilitation may occur in a natural system, we performed an enclosure experiment where we mimicked fish predation by selectively removing large zooplankton and subsequently following the response of the invertebrate predator Bythotrephes longimanus. 3. Positive responses to harvest were observed in the biomass of juvenile individuals of the dominant zooplankton Holopedium gibberum and in Bythotrephes densities. Hence, by removing large prey, we increased the biomass of small prey, i.e. stage-specific biomass overcompensation was present in the juvenile stage of Holopedium. This favoured Bythotrephes, which preferentially feed on small Holopedium. 4. We argue that the stage-specific overcompensation occurred as a result of increased per capita fecundity of adult Holopedium and as a result of competitive release following harvest. If shown to be common, emergent facilitation may be a major mechanism behind observed predator extinctions and patterns of predator invasions.')\n",
      "  Processing chunk 1/1\n"
     ]
    },
    {
     "name": "stderr",
     "output_type": "stream",
     "text": [
      "The text cannot be perfectly aligned: Annotation(start=651, end=662, label='common_name', text='common_name') was removed because the string is not in the text.\n",
      "100%|███████████████████████████████████████| 1/1 [00:22<00:00, 22.35s/ example]\n"
     ]
    },
    {
     "name": "stdout",
     "output_type": "stream",
     "text": [
      "Completed file 14/100\n",
      "Processing species161.txt...\n",
      "#### (0, 'Ecosystem engineering and predation: the multi-trophic impact of two ant species.  1. Ants are ubiquitous ecosystem engineers and generalist predators and are able to affect ecological communities via both pathways. They are likely to influence any other terrestrial arthropod group either directly or indirectly caused by their high abundance and territoriality. 2. We studied the impact of two ant species common in Central Europe, Myrmica rubra and Lasius niger, on an arthropod community. Colony presence and density of these two ant species were manipulated in a field experiment from the start of ant activity in spring to late summer. 3. The experiment revealed a positive influence of the presence of one ant colony on densities of decomposers, herbivores and parasitoids. However, in the case of herbivores and parasitoids, this effect was reversed in the presence of two colonies. 4. Generally, effects of the two ant species were similar with the exception of their effect on Braconidae parasitoid densities that responded positively to one colony of M. rubra but not of L. niger. 5. Spider density was not affected by ant colony manipulation, but species richness of spiders responded positively to ant presence. This effect was independent of ant colony density, but where two colonies were present, spider richness was significantly greater in plots with two M. rubra colonies than in plots with one colony of each ant species. 6. To test whether the positive ecosystem engineering effects were purely caused by modified properties of the soil, we added in an additional experiment (i) the soil from ant nests (without ants) or (ii) unmodified soil or (iii) ant nests (including ants) to experimental plots. Ant nest soil on its own did not have a significant impact on densities of decomposers, herbivores or predators, which were significantly, and positively, affected by the addition of an intact nest. 7. The results suggest an important role of both ant species in the grassland food web, strongly affecting the densities of decomposers, herbivores and higher trophic levels. We discuss how the relative impact via bottom-up and top-down effects of ants depends on nest density, with a relatively greater top-down predatory impact at higher densities.')\n",
      "  Processing chunk 1/1\n"
     ]
    },
    {
     "name": "stderr",
     "output_type": "stream",
     "text": [
      "100%|███████████████████████████████████████| 1/1 [00:31<00:00, 31.41s/ example]\n"
     ]
    },
    {
     "name": "stdout",
     "output_type": "stream",
     "text": [
      "Completed file 15/100\n",
      "Processing species044.txt...\n",
      "#### (0, 'Host phylogeography and beta diversity in avian haemosporidian (Plasmodiidae) assemblages of the Lesser Antilles.  1. We estimated the correlation between host phylogeographical structure and beta diversity of avian haemosporidian assemblages of passerine birds to determine the degree to which parasite communities change with host evolution, expressed as genetic divergence between island populations, and we investigated whether differences among islands in the haemosporidia of a particular host species reflect beta diversity in the entire parasite assemblage, beta diversity in vectors, turnover of bird species and/or geographical distance. 2. We used Mantel tests to assess the significance of partial correlations between host nucleotide difference (based on cytochrome b) and haemosporidian (Haemoproteus spp. and Plasmodium spp.) mitochondrial lineage beta diversity within a given host species and between Plasmodium mitochondrial lineage beta diversity and mosquito and bird species beta diversity (or turnover). Three abundant and widespread host species (Tiaris bicolor, Coereba flaveola and Loxigilla noctis/barbadensis) were included in the study. Haemosporidian lineage beta diversity among nine islands was assessed using the Chao-Jaccard, Chao-Sorensen and Morisita-Horn indices of community similarity. Beta diversity indices of mosquito species and turnover of bird species were calculated from data in published records and field guides. 3. In Loxigilla spp., we found a positive correlation with geographical distance and an unexpected negative correlation between haemosporidian beta diversity and host genetic distance. Tiaris bicolor exhibited a significant positive correlation between haemosporidian beta diversity and beta diversity within the entire parasite assemblage. We did not find significant correlations between parasite beta diversity and mosquito beta diversity or bird species turnover. 4. Host phylogeographical structure does not appear to drive within-host beta diversity of haemosporidian lineages. Instead, the array of parasites on one host can reflect the haemosporidian assemblage on other hosts.')\n",
      "  Processing chunk 1/1\n"
     ]
    },
    {
     "name": "stderr",
     "output_type": "stream",
     "text": [
      "100%|███████████████████████████████████████| 1/1 [00:32<00:00, 32.08s/ example]\n"
     ]
    },
    {
     "name": "stdout",
     "output_type": "stream",
     "text": [
      "Completed file 16/100\n",
      "Processing species103.txt...\n",
      "#### (0, 'Linking disease and community ecology through behavioural indicators: immunochallenge of white-footed mice and its ecological impacts.  1. Pathogens and immune challenges can induce changes in host phenotype in ways that indirectly impact important community interactions, including those that affect host-pathogen interactions. 2. To explore host behavioural response to immune challenge, we exposed wild white-footed mice (Peromyscus leucopus) to an immunogen from an endemic, zoonotic pathogen, the spirochete Borrelia burgdorferi. White-footed mice are a major reservoir host of Lyme disease (LD) spirochetes in northeastern USA and an abundant member of forest communities. The activity patterns, foraging behaviour, and space use of white-footed mice have implications for population growth rates of community members upon which mice incidentally prey (i.e. gypsy moths and native thrushes), as well as potentially determining host-vector encounter rates and human risk of LD. 3. Immunochallenge led to specific humoral (antibody) and cellular (i.e. elevated neutrophils and eosinophils) immune responses, supporting use of the immunogen as a surrogate for pathogenic infection. 4. Immunochallenged mice had reduced wheel-running activity early in the night when measured in the lab. However, mouse activity, as measured by track plates in natural field experiments, did not differ between mice exposed to the immunogen and unexposed mice. 5. Foraging behaviour of wild mice in the field - assessed with giving-up densities of seed at artificial feeding stations - was affected by exposure to the immunogen. Whereas immunochallenge did not influence whether foraging mice gained information on patch quality while foraging, it led to reductions in predator avoidance during foraging, suggesting that the proportion of space used by foraging mice may be greater as a result of immunochallenge. This increased space use is predicted to increase encounter rates with patchily distributed LD vectors (ticks) and with incidental prey items. 6. Thus, immunochallenge in white-footed mice, and potentially pathogenic infection, have the potential to indirectly impact community interactions, including those important for pathogen transmission.')\n",
      "  Processing chunk 1/1\n"
     ]
    },
    {
     "name": "stderr",
     "output_type": "stream",
     "text": [
      "100%|███████████████████████████████████████| 1/1 [00:30<00:00, 30.32s/ example]\n"
     ]
    },
    {
     "name": "stdout",
     "output_type": "stream",
     "text": [
      "Completed file 17/100\n",
      "Processing species160.txt...\n",
      "#### (0, \"Predicting the optimal prey group size from predator hunting behaviour. 1. How group size affects predator attack and success rate, and so prey vulnerability, is important in determining the nonlethal consequences of predation risk on animal populations and communities. Theory predicts that both predator attack success rate and the dilution effect decline exponentially with group size and that selection generates optimal group sizes at a 'risk threshold' above which antipredation benefits are outweighed by costs, such as those owing to higher attack rates. 2. We examined whether flock size risk thresholds for attack rate, success rate or dilution differed, and therefore whether the strength of selection for group size differed for these three factors, using a system of redshank Tringa totanus flocks being hunted by Eurasian sparrowhawks Accipiter nisus. We also asked which of the three thresholds, on their own or in combination, predicted the most commonly observed group size. 3. Mean redshank flock size increased with a very gradual quadratic function (i.e. approximately linearly) with population size, although at a rate half that possible; when population size was not limiting, individuals almost always avoided flocks of less than 30 and birds were frequently in flocks up to at least 80. Sparrowhawk attack rate showed a quadratic relationship with flock size and peaked at 55 redshanks. Sparrowhawk attack success rate, however, declined exponentially, becoming less steep at flock sizes of about 40 and remaining uniformly low (a 95% decrease) by 70. Combined with dilution, individual risk of death per attack decreased by 95% when group size reached 30 (20 for the dilution effect alone). 4. Redshanks most commonly formed group sizes that gained the maximum individual predation risk reduction. They also commonly formed group sizes far above any further substantial advantages from the dilution effect or from reducing attack rate, but that continued to reduce predation risk by lowering attack success rate. Individuals did not always form the largest groups possible which we suggest is because individual variation in risk-taking subdivides the population. This places a constraint on the ability of individuals to compensate for predation risk and will have a variety of important effects on animal populations.\")\n",
      "  Processing chunk 1/1\n"
     ]
    },
    {
     "name": "stderr",
     "output_type": "stream",
     "text": [
      "100%|███████████████████████████████████████| 1/1 [00:22<00:00, 22.31s/ example]"
     ]
    },
    {
     "name": "stdout",
     "output_type": "stream",
     "text": [
      "Completed file 18/100\n"
     ]
    },
    {
     "name": "stderr",
     "output_type": "stream",
     "text": [
      "\n"
     ]
    }
   ],
   "source": [
    "results, conll_results = process_s800_abstracts()"
   ]
  },
  {
   "cell_type": "code",
   "execution_count": 26,
   "id": "99571b48-5a04-4c28-b0af-5063efb504d7",
   "metadata": {},
   "outputs": [
    {
     "name": "stdout",
     "output_type": "stream",
     "text": [
      "Results saved to all_results.csv\n",
      "hello\n"
     ]
    }
   ],
   "source": [
    "# Save to CSV with the specific format requested\n",
    "with open('chunk_1024_llama4_allowed_docs_temp1.csv', 'w', newline='', encoding='utf-8') as f:\n",
    "    # Define the fields as requested\n",
    "    fieldnames = ['file', 'doc_id', 'content', 'Annotation Text', 'start', 'end', 'label']\n",
    "    \n",
    "    writer = csv.DictWriter(f, fieldnames=fieldnames)\n",
    "    writer.writeheader()\n",
    "    \n",
    "    for result in results:\n",
    "        # Get the base information\n",
    "        base_info = {\n",
    "            'file': result['file'],\n",
    "            'doc_id': result['doc_id'],\n",
    "            'content': result['content'],\n",
    "        }\n",
    "        \n",
    "        # Handle annotations - assuming annotations is a list of objects with text, start, end, and label properties\n",
    "        if 'annotations' in result and result['annotations']:\n",
    "            for annotation in result['annotations']:\n",
    "                row = base_info.copy()  # Start with the base information\n",
    "                \n",
    "                # Add annotation details - handle different annotation formats\n",
    "                # Try direct dictionary access first\n",
    "                try:\n",
    "                    row['Annotation Text'] = annotation['text'] if 'text' in annotation else ''\n",
    "                    row['start'] = annotation['start'] if 'start' in annotation else ''\n",
    "                    row['end'] = annotation['end'] if 'end' in annotation else ''\n",
    "                    row['label'] = annotation['label'] if 'label' in annotation else ''\n",
    "                except (TypeError, KeyError):\n",
    "                    # If that fails, try attribute access\n",
    "                    try:\n",
    "                        row['Annotation Text'] = getattr(annotation, 'text', '')\n",
    "                        row['start'] = getattr(annotation, 'start', '')\n",
    "                        row['end'] = getattr(annotation, 'end', '')\n",
    "                        row['label'] = getattr(annotation, 'label', '')\n",
    "                    except (AttributeError, TypeError):\n",
    "                        # Last resort: convert to string\n",
    "                        row['Annotation Text'] = str(annotation)\n",
    "                        row['start'] = ''\n",
    "                        row['end'] = ''\n",
    "                        row['label'] = ''\n",
    "                \n",
    "                writer.writerow(row)\n",
    "        else:\n",
    "            # If no annotations, write just the base info\n",
    "            row = base_info.copy()\n",
    "            row['Annotation Text'] = ''\n",
    "            row['start'] = ''\n",
    "            row['end'] = ''\n",
    "            row['label'] = ''\n",
    "            writer.writerow(row)\n",
    "\n",
    "print(\"Results saved to all_results.csv\")\n",
    "\n",
    "print('hello')"
   ]
  },
  {
   "cell_type": "code",
   "execution_count": null,
   "id": "7616c67d-fd9b-435e-84d0-ff4d5b7e1a2f",
   "metadata": {},
   "outputs": [],
   "source": []
  },
  {
   "cell_type": "code",
   "execution_count": null,
   "id": "4d765f9f-e1a6-4ed9-b336-18059245b63d",
   "metadata": {},
   "outputs": [],
   "source": []
  }
 ],
 "metadata": {
  "kernelspec": {
   "display_name": "Python 3 (ipykernel)",
   "language": "python",
   "name": "python3"
  },
  "language_info": {
   "codemirror_mode": {
    "name": "ipython",
    "version": 3
   },
   "file_extension": ".py",
   "mimetype": "text/x-python",
   "name": "python",
   "nbconvert_exporter": "python",
   "pygments_lexer": "ipython3",
   "version": "3.11.7"
  }
 },
 "nbformat": 4,
 "nbformat_minor": 5
}
